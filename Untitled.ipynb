{
 "cells": [
  {
   "cell_type": "markdown",
   "metadata": {},
   "source": [
    "<h2>Import bibliotek</h2>"
   ]
  },
  {
   "cell_type": "code",
   "execution_count": 1,
   "metadata": {},
   "outputs": [],
   "source": [
    "from activations.ReLU import ReLU\n",
    "from enums.TypeOfLayer import TypeOfLayer\n",
    "from loss.CategoricalCrossEntropy import CategoricalCrossEntropy\n",
    "from models.Layer import Layer\n",
    "from models.NeuralNetwork import NeuralNetwork\n",
    "import numpy as np\n",
    "import matplotlib.pyplot as plt"
   ]
  },
  {
   "cell_type": "markdown",
   "metadata": {},
   "source": [
    "<h2>Laboratorium 3 Zadanie 1</h2>\n",
    "<h3>Rozbuduj sieć z zadania 4 z laboratorium 1 o funkcję aktywacji ReLU w warstwie ukrytej. Przetestujdziałanie sieci dla następujących danych wejściowych:</h3>"
   ]
  },
  {
   "cell_type": "code",
   "execution_count": 2,
   "metadata": {},
   "outputs": [
    {
     "name": "stdout",
     "output_type": "stream",
     "text": [
      "[0. 0. 0.]\n"
     ]
    }
   ],
   "source": [
    "model = NeuralNetwork()\n",
    "model.add_layer(Layer(units=3, activation=ReLU(), type=TypeOfLayer.INPUT))   # 0\n",
    "model.add_layer(Layer(units=3, activation=ReLU(), type=TypeOfLayer.HIDDEN))  # 1\n",
    "model.add_layer(Layer(units=3, activation=ReLU(), type=TypeOfLayer.OUTPUT))  # 2\n",
    "\n",
    "weight_1 = np.array([\n",
    "    [0.1, 0.2, -0.1],\n",
    "    [-0.1, 0.1, 0.9],\n",
    "    [0.1, 0.4, 0.1]\n",
    "])\n",
    "\n",
    "weight_2 = np.array([\n",
    "    [0.3, 1.1, -0.3],\n",
    "    [0.1, 0.2, 0.0],\n",
    "    [0.0, 1.3, 0.1]\n",
    "])\n",
    "model.add_weights(1, weights=weight_1)\n",
    "model.add_weights(2, weights=weight_2)\n",
    "model.compile(loss=CategoricalCrossEntropy(), metrics=[])\n",
    "\n",
    "input = np.array([\n",
    "    [8.5, 0.65, 1.2],\n",
    "    [9.5, 0.8, 1.3],\n",
    "    [9.9, 0.8, 0.5],\n",
    "    [9.0, 0.9, 1.0]\n",
    "])\n",
    "\n",
    "expected_output = np.array([\n",
    "    [0.1, 1.0, 0.1],\n",
    "    [0.0, 1.8, 0.0],\n",
    "    [0.1, 1.0, 0.2],\n",
    "    [0.1, 1.0, 0.2]\n",
    "])\n",
    "\n",
    "model.input = input\n",
    "model.fit(epochs=1, expected_output=expected_output, learning_rate=0.01)\n",
    "y_pred = model.extract_y_pred()\n",
    "print(y_pred)"
   ]
  },
  {
   "cell_type": "code",
   "execution_count": null,
   "metadata": {},
   "outputs": [],
   "source": []
  }
 ],
 "metadata": {
  "kernelspec": {
   "display_name": "Python 3",
   "language": "python",
   "name": "python3"
  },
  "language_info": {
   "codemirror_mode": {
    "name": "ipython",
    "version": 3
   },
   "file_extension": ".py",
   "mimetype": "text/x-python",
   "name": "python",
   "nbconvert_exporter": "python",
   "pygments_lexer": "ipython3",
   "version": "3.7.9"
  }
 },
 "nbformat": 4,
 "nbformat_minor": 4
}
